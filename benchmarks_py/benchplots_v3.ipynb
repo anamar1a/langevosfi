{
 "cells": [
  {
   "cell_type": "code",
   "execution_count": null,
   "metadata": {},
   "outputs": [],
   "source": [
    "%matplotlib inline\n",
    "import os\n",
    "\n",
    "import numpy as np\n",
    "import matplotlib.pyplot as plt\n",
    "from collections import namedtuple\n",
    "\n",
    "bench_dir = 'bench_py_v003'\n",
    "\n",
    "size_ag, size_lex, size_mem = 64, 64, 64\n",
    "\n",
    "#varexam='AcceptanceRate'\n",
    "varexam='Comprehension'\n",
    "#varexam='GrammarVar'\n",
    "\n",
    "mrspan_start, mrspan_stop, mrspan_points = 0.0, 0.1, 50+1\n",
    "\n",
    "mr_seq = np.linspace(mrspan_start, mrspan_stop, num=mrspan_points, endpoint = True)\n",
    "\n",
    "plt.rcParams['figure.figsize'] = (15,15)\n",
    "\n",
    "def dumpread(fn):\n",
    "    print(\"Reading file %s.\" % fn)\n",
    "    rawreadgen = np.genfromtxt(fn, names = True, delimiter=' ', skip_header = 2, invalid_raise = False, encoding = None)\n",
    "    cols = rawreadgen.dtype.names\n",
    "    return rawreadgen\n",
    "\n",
    "acc_rate_matrix = dict()\n",
    "\n",
    "for mr_val in mr_seq:\n",
    "    fname = 'run_%d_%d_%d_mr_%.3f.txt' % (size_ag, size_lex, size_mem, mr_val)\n",
    "    ffname = os.path.join(bench_dir, fname)\n",
    "    dg = dumpread(ffname)\n",
    "    acc_rate_matrix['%.3f' % mr_val] = dg\n",
    "    "
   ]
  },
  {
   "cell_type": "code",
   "execution_count": null,
   "metadata": {},
   "outputs": [],
   "source": [
    "#PLOT TIME SERIES\n",
    "\n",
    "obsnum = len(list(acc_rate_matrix.values())[0]) #hackish\n",
    "\n",
    "x = range(0, obsnum)\n",
    "for mr_val in mr_seq:\n",
    "    y = acc_rate_matrix['%.3f' % mr_val][varexam][0:obsnum]\n",
    "\n",
    "    plt.plot(x,y)\n",
    "    print(\"Min/Max AR values for MS %.3f are %.3f, %.3f\" % (mr_val, min(y), max(y)) )\n",
    "plt.show()\n",
    "\n"
   ]
  },
  {
   "cell_type": "code",
   "execution_count": null,
   "metadata": {},
   "outputs": [],
   "source": [
    "#PLOT Mutation / Acceptance \n",
    "\n",
    "x_mr = []\n",
    "y_ar = []\n",
    "\n",
    "for mr_val in mr_seq:\n",
    "    x_mr.append(mr_val) \n",
    "    y_ar.append(acc_rate_matrix['%.3f' % mr_val][varexam][obsnum-1])\n",
    "\n",
    "plt.plot(x_mr,y_ar)\n",
    "plt.show()\n"
   ]
  },
  {
   "cell_type": "code",
   "execution_count": null,
   "metadata": {},
   "outputs": [],
   "source": []
  },
  {
   "cell_type": "code",
   "execution_count": null,
   "metadata": {},
   "outputs": [],
   "source": []
  }
 ],
 "metadata": {
  "kernelspec": {
   "display_name": "Python 2",
   "language": "python",
   "name": "python2"
  },
  "language_info": {
   "codemirror_mode": {
    "name": "ipython",
    "version": 2
   },
   "file_extension": ".py",
   "mimetype": "text/x-python",
   "name": "python",
   "nbconvert_exporter": "python",
   "pygments_lexer": "ipython2",
   "version": "2.7.6"
  }
 },
 "nbformat": 4,
 "nbformat_minor": 0
}
