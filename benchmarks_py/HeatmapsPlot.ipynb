{
 "cells": [
  {
   "cell_type": "code",
   "execution_count": null,
   "metadata": {},
   "outputs": [],
   "source": [
    "from __future__ import print_function\n",
    "%matplotlib inline\n",
    "import os, re\n",
    "import pandas as pd\n",
    "import numpy as np\n",
    "import matplotlib.pyplot as plt\n",
    "import matplotlib.gridspec as gridspec"
   ]
  },
  {
   "cell_type": "code",
   "execution_count": null,
   "metadata": {},
   "outputs": [],
   "source": [
    "#DIR='bench_py_v012'\n",
    "DIR='bench_py_v013'\n",
    "data = {}\n",
    "empty_files = []\n",
    "not_converged = []\n",
    "for fname in sorted(os.listdir(DIR)):\n",
    "    if fname.startswith('run'):\n",
    "        ffname = DIR+'/'+fname\n",
    "        with open(ffname) as f:\n",
    "            for l in f.readlines():\n",
    "                if l[0]=='#' and 'num_memes' in l:\n",
    "                    #print(\"Loading\", fname)\n",
    "                    d = dict(e.split('=') for e in l[1:].strip().split(', '))\n",
    "                    key = (d['mutator_class'],d['temperature'],d['mutation_scale'])\n",
    "                    df = pd.read_csv(ffname, comment='#', sep=' ')\n",
    "                    if len(df) > 0:\n",
    "                        cutoff_convergence_step = df.iloc[int(len(df)*0.75)].Step\n",
    "                        final_comprehension, final_drift = df.iloc[-1].Comprehension, df.iloc[-1].MeanGrammarDrift\n",
    "                        convergence_step = df[df.Comprehension >= final_comprehension*0.95].iloc[0].Step\n",
    "                        converged = final_comprehension <= 0.01 or convergence_step <= cutoff_convergence_step\n",
    "                        if not converged:\n",
    "                            not_converged.append((key, fname))\n",
    "                        else:\n",
    "                            data[key] = {'comprehension':final_comprehension, \n",
    "                                         'drift':final_drift, \n",
    "                                         'convergence_step': convergence_step,\n",
    "                                         'converged': converged}\n",
    "                    else:\n",
    "                        empty_files.append((key, fname))\n",
    "                    break"
   ]
  },
  {
   "cell_type": "code",
   "execution_count": null,
   "metadata": {},
   "outputs": [],
   "source": [
    "if len(empty_files):\n",
    "    print(\"Following files were empty:\")\n",
    "    for key, f in empty_files:\n",
    "        print(\"- \", f)\n",
    "    print(\"\\n\")\n",
    "        \n",
    "if len(not_converged):\n",
    "    print(\"Following files might not have converged:\")\n",
    "    n = int(np.ceil(np.sqrt(len(not_converged))))\n",
    "    plt.figure(figsize=(16,16))\n",
    "    for ndx, (key, f) in enumerate(sorted(not_converged, key=lambda x: x[0])):\n",
    "        print(\"- \", f)\n",
    "        plt.subplot(n,n,ndx+1)\n",
    "        df = pd.read_csv(DIR+'/'+f, comment='#', sep=' ')\n",
    "        plt.plot(df.Comprehension)\n",
    "        plt.ylim([0,1])\n",
    "        plt.title('%s\\nT=%s, S=%s'% key, fontsize=7)\n",
    "    plt.tight_layout()"
   ]
  },
  {
   "cell_type": "code",
   "execution_count": null,
   "metadata": {},
   "outputs": [],
   "source": [
    "def floatsorted(l):\n",
    "    return sorted(l, key=lambda x: float(x))\n",
    "\n",
    "mutator_values, temp_values, scale_values = map(list, map(set, zip(*data.keys())))\n",
    "mutator_values = sorted(mutator_values)\n",
    "temp_values    = floatsorted(temp_values)\n",
    "scale_values   = floatsorted(scale_values)\n",
    "\n",
    "ms_ixs = { v:k for k, v in enumerate(scale_values) }\n",
    "temp_ixs = { v:k for k, v in enumerate(temp_values) }\n"
   ]
  },
  {
   "cell_type": "code",
   "execution_count": null,
   "metadata": {},
   "outputs": [],
   "source": [
    "plt.figure(figsize=(10,50))\n",
    "gs = gridspec.GridSpec(len(mutator_values), 3)\n",
    "for ndxm, mutator in enumerate(mutator_values):\n",
    "    for ndx, (col, vmax) in enumerate([('comprehension', 1), ('drift', 0.0025), ('convergence_step', None)]):\n",
    "        plt.subplot(gs[ndxm, ndx])\n",
    "        mx = np.zeros((len(ms_ixs), len(temp_ixs)))\n",
    "        mx[:] = np.nan\n",
    "        \n",
    "        for k, v in data.items():\n",
    "            if k[0] == mutator:\n",
    "                if col == 'convergence_step' or v['converged']:\n",
    "                    mx[ms_ixs[k[2]],temp_ixs[k[1]]] = v[col]\n",
    "        plt.imshow(mx, aspect='auto', vmin=0, vmax=vmax, interpolation='nearest', origin='lower')\n",
    "        plt.xticks(range(len(temp_values)), temp_values, rotation=45)\n",
    "        plt.yticks(range(len(scale_values)), scale_values)\n",
    "        plt.gca().set_yticklabels(scale_values)\n",
    "        if ndx  == 0: plt.ylabel('Mutation scale')\n",
    "        if ndxm == len(mutator_values)-1: plt.xlabel('Temperature')\n",
    "        plt.colorbar(ticks=[0, vmax])\n",
    "        if ndx == 0:\n",
    "            plt.title(mutator+'\\nComprehension')\n",
    "        else:\n",
    "            plt.title(mutator+'\\nDrift')\n",
    "            \n",
    "plt.tight_layout()\n",
    "# plt.savefig('comprehension_and_drift.pdf')"
   ]
  },
  {
   "cell_type": "code",
   "execution_count": null,
   "metadata": {},
   "outputs": [],
   "source": [
    "plt.figure(figsize=(10,100))\n",
    "#gs = gridspec.GridSpec(len(mutator_values), 3)\n",
    "gs = gridspec.GridSpec(len(mutator_values), 1)\n",
    "for ndxm, mutator in enumerate(mutator_values):#[0:1]):\n",
    "    _compvec = []\n",
    "    _driftvec = []\n",
    "    for k, v in data.items():\n",
    "        if k[0] == mutator:\n",
    "            #print(k,v['comprehension'], v['drift'])\n",
    "            _comp = v['comprehension']\n",
    "            _drift = v['drift']\n",
    "            \n",
    "            _compvec.append(_comp)\n",
    "            _driftvec.append(_drift)\n",
    "    #plt.subplot(gs[ndxm, ndx])\n",
    "    plt.subplot(gs[ndxm])\n",
    "    plt.scatter(_compvec, _driftvec)\n",
    "    plt.title(mutator+'\\nComp/Drift Tradeoff')\n",
    "    \n",
    "plt.tight_layout()\n",
    "# plt.savefig('comprehension_and_drift_tradeoff.pdf')"
   ]
  },
  {
   "cell_type": "code",
   "execution_count": null,
   "metadata": {},
   "outputs": [],
   "source": []
  }
 ],
 "metadata": {
  "kernelspec": {
   "display_name": "Python 3",
   "language": "python",
   "name": "python3"
  },
  "language_info": {
   "codemirror_mode": {
    "name": "ipython",
    "version": 3
   },
   "file_extension": ".py",
   "mimetype": "text/x-python",
   "name": "python",
   "nbconvert_exporter": "python",
   "pygments_lexer": "ipython3",
   "version": "3.4.3"
  }
 },
 "nbformat": 4,
 "nbformat_minor": 0
}
