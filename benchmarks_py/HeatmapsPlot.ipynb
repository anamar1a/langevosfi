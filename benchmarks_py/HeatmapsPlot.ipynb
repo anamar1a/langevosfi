{
 "cells": [
  {
   "cell_type": "code",
   "execution_count": null,
   "metadata": {},
   "outputs": [],
   "source": [
    "from __future__ import print_function\n",
    "%matplotlib inline\n",
    "import os, re\n",
    "import pandas as pd\n",
    "import numpy as np\n",
    "import matplotlib.pyplot as plt\n",
    "import matplotlib.gridspec as gridspec"
   ]
  },
  {
   "cell_type": "code",
   "execution_count": null,
   "metadata": {},
   "outputs": [],
   "source": [
    "DIR='bench_py_v012'\n",
    "data = {}\n",
    "empty_files = []\n",
    "for fname in sorted(os.listdir(DIR)):\n",
    "    if fname.startswith('run'):\n",
    "        ffname = DIR+'/'+fname\n",
    "        with open(ffname) as f:\n",
    "            for l in f.readlines():\n",
    "                if l[0]=='#' and 'num_memes' in l:\n",
    "                    #print(\"Loading\", fname)\n",
    "                    d = dict(e.split('=') for e in l[1:].strip().split(', '))\n",
    "                    df = pd.read_csv(ffname, comment='#', sep=' ')\n",
    "                    if len(df) > 0:\n",
    "                        key = (d['mutator_class'],d['temperature'],d['mutation_scale'])\n",
    "                        data[key] = (df.iloc[-1].Comprehension, df.iloc[-1].MeanGrammarDrift)\n",
    "                    else:\n",
    "                        empty_files.append(fname)\n",
    "                    break\n",
    "            \n",
    "if len(empty_files):\n",
    "    print(\"Following files were empty:\")\n",
    "    for f in empty_files:\n",
    "        print(\"- \", f)"
   ]
  },
  {
   "cell_type": "code",
   "execution_count": null,
   "metadata": {},
   "outputs": [],
   "source": [
    "def floatsorted(l):\n",
    "    return sorted(l, key=lambda x: float(x))\n",
    "\n",
    "mutator_values, temp_values, scale_values = map(list, map(set, zip(*data.keys())))\n",
    "mutator_values = sorted(mutator_values)\n",
    "temp_values    = floatsorted(temp_values)\n",
    "scale_values   = floatsorted(scale_values)\n",
    "\n",
    "ms_ixs = { v:k for k, v in enumerate(scale_values) }\n",
    "temp_ixs = { v:k for k, v in enumerate(temp_values) }\n"
   ]
  },
  {
   "cell_type": "code",
   "execution_count": null,
   "metadata": {},
   "outputs": [],
   "source": [
    "plt.figure(figsize=(10,50))\n",
    "gs = gridspec.GridSpec(len(mutator_values), 2)\n",
    "for ndxm, mutator in enumerate(mutator_values):\n",
    "    for ndx, (col, vmax) in enumerate([('final_value',1.0), ('final_value_grammardrift', 0.0025)]):\n",
    "        plt.subplot(gs[ndxm, ndx])\n",
    "        mx = np.zeros((len(ms_ixs), len(temp_ixs)))\n",
    "        for k, v in data.items():\n",
    "            if k[0] == mutator:\n",
    "                mx[ms_ixs[k[2]],temp_ixs[k[1]]] = v[ndx]\n",
    "        i = plt.imshow(mx, aspect='auto', vmin=0, vmax=vmax, interpolation='nearest', origin='lower')\n",
    "        plt.xticks(range(len(temp_values)), temp_values, rotation=45)\n",
    "        plt.yticks(range(len(scale_values)), scale_values)\n",
    "        plt.gca().set_yticklabels(scale_values)\n",
    "        if ndx  == 0: plt.ylabel('Mutation scale')\n",
    "        if ndxm == len(mutator_values)-1: plt.xlabel('Temperature')\n",
    "        plt.colorbar(ticks=[0, vmax])\n",
    "        if ndx == 0:\n",
    "            plt.title(mutator+'\\nComprehension')\n",
    "        else:\n",
    "            plt.title(mutator+'\\nDrift')\n",
    "            \n",
    "plt.tight_layout()\n",
    "plt.savefig('comprehension_and_drift.pdf')"
   ]
  },
  {
   "cell_type": "code",
   "execution_count": null,
   "metadata": {},
   "outputs": [],
   "source": []
  }
 ],
 "metadata": {
  "kernelspec": {
   "display_name": "Python 3",
   "language": "python",
   "name": "python3"
  },
  "language_info": {
   "codemirror_mode": {
    "name": "ipython",
    "version": 3
   },
   "file_extension": ".py",
   "mimetype": "text/x-python",
   "name": "python",
   "nbconvert_exporter": "python",
   "pygments_lexer": "ipython3",
   "version": "3.6.5"
  }
 },
 "nbformat": 4,
 "nbformat_minor": 0
}
