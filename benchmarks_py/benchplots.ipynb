{
 "cells": [
  {
   "cell_type": "code",
   "execution_count": null,
   "metadata": {},
   "outputs": [],
   "source": [
    "%matplotlib inline\n",
    "import os\n",
    "\n",
    "import numpy as np\n",
    "import matplotlib.pyplot as plt\n",
    "from collections import namedtuple\n",
    "\n",
    "bench_dir = 'bench_py_v001'\n",
    "\n",
    "#size_ag, size_lex, size_mem = 8, 8, 8\n",
    "#size_ag, size_lex, size_mem = 16, 16, 16\n",
    "size_ag, size_lex, size_mem = 32, 32, 32\n",
    "\n",
    "\n",
    "mrspan_start, mrspan_stop, mrspan_points = 0.0, 2.0, 20+1\n",
    "mr_seq = np.linspace(mrspan_start, mrspan_stop, num=mrspan_points, endpoint = True)\n",
    "\n",
    "plt.rcParams['figure.figsize'] = (15,15)\n",
    "\n",
    "def dumpread(fn):\n",
    "    print(\"Reading file %s.\" % fn)\n",
    "    rawreadgen = np.genfromtxt(fn, names = True, delimiter=' ', skip_header = 2, invalid_raise = False, encoding = None)\n",
    "    cols = rawreadgen.dtype.names\n",
    "    #print(\"...read <%s> columns.\" % ', '.join(cols) )\n",
    "    return rawreadgen\n",
    "\n",
    "acc_rate_matrix = dict()\n",
    "\n",
    "for mr_val in mr_seq:\n",
    "    fname = 'run_%d_%d_%d_mr_%.1f.txt' % (size_ag, size_lex, size_mem, mr_val)\n",
    "    ffname = os.path.join(bench_dir, fname)\n",
    "    dg = dumpread(ffname)\n",
    "    acc_rate_matrix['%.1f' % mr_val] = dg\n",
    "    \n",
    "np.array"
   ]
  },
  {
   "cell_type": "code",
   "execution_count": null,
   "metadata": {},
   "outputs": [],
   "source": [
    "#PLOT TIME SERIES\n",
    "#THE STATIONARY ONE (BLUE) IS Mutation_Scale = 0.0\n",
    "\n",
    "obsnum = len(acc_rate_matrix.values()[0]) #hackish\n",
    "print(obsnum)\n",
    "\n",
    "x = range(0, obsnum)\n",
    "for mr_val in mr_seq:\n",
    "    y = acc_rate_matrix['%.1f' % mr_val]['AcceptanceRate']\n",
    "\n",
    "    plt.plot(x,y)\n",
    "\n",
    "plt.show()\n",
    "\n"
   ]
  },
  {
   "cell_type": "code",
   "execution_count": null,
   "metadata": {},
   "outputs": [],
   "source": [
    "#PLOT Mutation / Acceptance (NOTE THE Y-SCALE: 0.90-1.00)\n",
    "\n",
    "x_mr = []\n",
    "y_ar = []\n",
    "\n",
    "for mr_val in mr_seq:\n",
    "    x_mr.append(mr_val) \n",
    "    y_ar.append(acc_rate_matrix['%.1f' % mr_val]['AcceptanceRate'][obsnum-1])\n",
    "\n",
    "plt.plot(x_mr,y_ar)\n",
    "plt.show()\n"
   ]
  },
  {
   "cell_type": "code",
   "execution_count": null,
   "metadata": {},
   "outputs": [],
   "source": []
  },
  {
   "cell_type": "code",
   "execution_count": null,
   "metadata": {},
   "outputs": [],
   "source": []
  }
 ],
 "metadata": {
  "kernelspec": {
   "display_name": "Python 2",
   "language": "python",
   "name": "python2"
  },
  "language_info": {
   "codemirror_mode": {
    "name": "ipython",
    "version": 2
   },
   "file_extension": ".py",
   "mimetype": "text/x-python",
   "name": "python",
   "nbconvert_exporter": "python",
   "pygments_lexer": "ipython2",
   "version": "2.7.6"
  }
 },
 "nbformat": 4,
 "nbformat_minor": 0
}
