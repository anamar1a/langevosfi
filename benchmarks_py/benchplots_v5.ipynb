{
 "cells": [
  {
   "cell_type": "code",
   "execution_count": null,
   "metadata": {},
   "outputs": [],
   "source": [
    "%matplotlib inline\n",
    "import os\n",
    "\n",
    "import numpy as np\n",
    "import matplotlib.pyplot as plt\n",
    "from collections import namedtuple\n",
    "from itertools import cycle\n",
    "\n",
    "bench_dir = 'bench_py_v005'\n",
    "\n",
    "size_ag, size_lex, size_mem = 64, 64, 64\n",
    "\n",
    "#varexam='AcceptanceRate'\n",
    "varexam='Comprehension'\n",
    "#varexam='GrammarVar'\n",
    "\n",
    "\n",
    "mutators = ['ProbitVectorGaussian', 'ProbitVectorUniform',\\\n",
    "            'AdditiveVectorUniform', 'ProbitSingleGaussian',\\\n",
    "            'ProbitSingleUniform', 'AdditiveSingleUniform', 'NoMutation']\n",
    "\n",
    "#mrspan_start, mrspan_stop, mrspan_points = 0.0, 2.0, 20+1\n",
    "mrspan_start, mrspan_stop, mrspan_points = 0.0, 1.0, 50+1\n",
    "\n",
    "mr_seq = np.linspace(mrspan_start, mrspan_stop, num=mrspan_points, endpoint = True)\n",
    "\n",
    "print(\"Sampled values: %s\", mr_seq)\n",
    "plt.rcParams['figure.figsize'] = (15,15)\n",
    "\n",
    "def dumpread(fn):\n",
    "    print(\"Reading file %s.\" % fn)\n",
    "    rawreadgen = np.genfromtxt(fn, names = True, delimiter=' ', skip_header = 2, invalid_raise = False, encoding = None)\n",
    "    cols = rawreadgen.dtype.names\n",
    "    #print(\"...read <%s> columns.\" % ', '.join(cols) )\n",
    "    return rawreadgen\n",
    "\n",
    "acc_rate_matrix = dict()\n",
    "\n",
    "for mutator in mutators:\n",
    "    acc_rate_matrix[mutator] = dict()\n",
    "    for mr_val in mr_seq:\n",
    "        #sorry, varying number of decimal values makes for crappy code.\n",
    "        fname = 'run_%d_%d_%d_mr_{%.2f}_{%s}.txt' % (size_ag, size_lex, size_mem, mr_val, mutator)\n",
    "        ffname = os.path.join(bench_dir, fname)\n",
    "        dg = dumpread(ffname)\n",
    "        #acc_rate_matrix['%.1f' % mr_val] = dg\n",
    "        acc_rate_matrix[mutator]['%.2f' % mr_val] = dg\n",
    "    "
   ]
  },
  {
   "cell_type": "code",
   "execution_count": null,
   "metadata": {},
   "outputs": [],
   "source": [
    "#PLOT TIME SERIES\n",
    "#PLOT Mutation AVERAGED across runs values, by mutator\n",
    "\n",
    "#obsnum = len(list(acc_rate_matrix.values())[0]) #hackish\n",
    "obsnum = 1000\n",
    "\n",
    "multirun_avg = dict()\n",
    "\n",
    "for mutator in mutators:\n",
    "    multirun_avg[mutator] = list()\n",
    "    for obs in range(0, obsnum):\n",
    "        avg = np.average( list( acc_rate_matrix[mutator][k][varexam][obs] for k in acc_rate_matrix[mutator].keys() ) )\n",
    "        multirun_avg[mutator].append(avg)\n"
   ]
  },
  {
   "cell_type": "code",
   "execution_count": null,
   "metadata": {},
   "outputs": [],
   "source": [
    "lines = [\"-\",\"--\",\"-.\",\":\",\".\",\"+\",\"*\"]\n",
    "linecycler = cycle(lines)\n",
    "\n",
    "x = range(0, obsnum)\n",
    "for mutator in mutators:\n",
    "    #print mutator,multirun_avg[mutator]\n",
    "    y = multirun_avg[mutator][0:obsnum]\n",
    "\n",
    "    plt.plot(x,y, next(linecycler), linewidth = 5, label = mutator)\n",
    "    plt.text(x[-1], y[-1], 'mutator %s' % (mutator))\n",
    "    print(\"Min/Max AR values for mutator %s are %.3f, %.3f\" % (mutator, min(y), max(y)) )\n",
    "\n",
    "plt.legend(loc = 'upper left')\n",
    "plt.show()\n"
   ]
  },
  {
   "cell_type": "code",
   "execution_count": null,
   "metadata": {},
   "outputs": [],
   "source": [
    "#PLOT Mutation / Acceptance TODO\n",
    "\"\"\"\n",
    "x_mr = []\n",
    "y_ar = []\n",
    "\n",
    "for mutator in mutators:\n",
    "for mr_val in mr_seq:\n",
    "    x_mr.append(mr_val) \n",
    "    #y_ar.append(acc_rate_matrix['%.1f' % mr_val]['AcceptanceRate'][obsnum-1])\n",
    "    y_ar.append(acc_rate_matrix['%.3f' % mr_val][varexam][obsnum-1])\n",
    "\n",
    "plt.plot(x_mr,y_ar)\n",
    "plt.show()\n",
    "\"\"\""
   ]
  },
  {
   "cell_type": "code",
   "execution_count": null,
   "metadata": {},
   "outputs": [],
   "source": []
  }
 ],
 "metadata": {
  "kernelspec": {
   "display_name": "Python 2",
   "language": "python",
   "name": "python2"
  },
  "language_info": {
   "codemirror_mode": {
    "name": "ipython",
    "version": 2
   },
   "file_extension": ".py",
   "mimetype": "text/x-python",
   "name": "python",
   "nbconvert_exporter": "python",
   "pygments_lexer": "ipython2",
   "version": "2.7.6"
  }
 },
 "nbformat": 4,
 "nbformat_minor": 0
}
