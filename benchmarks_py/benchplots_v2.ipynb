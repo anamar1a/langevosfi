{
 "cells": [
  {
   "cell_type": "code",
   "execution_count": 5,
   "metadata": {
    "collapsed": false
   },
   "outputs": [
    {
     "name": "stdout",
     "output_type": "stream",
     "text": [
      "Reading file bench_py_v002/run_8_8_8_mr_0.00.txt.\n"
     ]
    },
    {
     "ename": "TypeError",
     "evalue": "genfromtxt() got an unexpected keyword argument 'encoding'",
     "output_type": "error",
     "traceback": [
      "\u001b[0;31m---------------------------------------------------------------------------\u001b[0m",
      "\u001b[0;31mTypeError\u001b[0m                                 Traceback (most recent call last)",
      "\u001b[0;32m<ipython-input-5-9935877b4414>\u001b[0m in \u001b[0;36m<module>\u001b[0;34m()\u001b[0m\n\u001b[1;32m     35\u001b[0m     \u001b[0mfname\u001b[0m \u001b[0;34m=\u001b[0m \u001b[0;34m'run_%d_%d_%d_mr_%.2f.txt'\u001b[0m \u001b[0;34m%\u001b[0m \u001b[0;34m(\u001b[0m\u001b[0msize_ag\u001b[0m\u001b[0;34m,\u001b[0m \u001b[0msize_lex\u001b[0m\u001b[0;34m,\u001b[0m \u001b[0msize_mem\u001b[0m\u001b[0;34m,\u001b[0m \u001b[0mmr_val\u001b[0m\u001b[0;34m)\u001b[0m\u001b[0;34m\u001b[0m\u001b[0m\n\u001b[1;32m     36\u001b[0m     \u001b[0mffname\u001b[0m \u001b[0;34m=\u001b[0m \u001b[0mos\u001b[0m\u001b[0;34m.\u001b[0m\u001b[0mpath\u001b[0m\u001b[0;34m.\u001b[0m\u001b[0mjoin\u001b[0m\u001b[0;34m(\u001b[0m\u001b[0mbench_dir\u001b[0m\u001b[0;34m,\u001b[0m \u001b[0mfname\u001b[0m\u001b[0;34m)\u001b[0m\u001b[0;34m\u001b[0m\u001b[0m\n\u001b[0;32m---> 37\u001b[0;31m     \u001b[0mdg\u001b[0m \u001b[0;34m=\u001b[0m \u001b[0mdumpread\u001b[0m\u001b[0;34m(\u001b[0m\u001b[0mffname\u001b[0m\u001b[0;34m)\u001b[0m\u001b[0;34m\u001b[0m\u001b[0m\n\u001b[0m\u001b[1;32m     38\u001b[0m     \u001b[0;31m#acc_rate_matrix['%.1f' % mr_val] = dg\u001b[0m\u001b[0;34m\u001b[0m\u001b[0;34m\u001b[0m\u001b[0m\n\u001b[1;32m     39\u001b[0m     \u001b[0macc_rate_matrix\u001b[0m\u001b[0;34m[\u001b[0m\u001b[0;34m'%.2f'\u001b[0m \u001b[0;34m%\u001b[0m \u001b[0mmr_val\u001b[0m\u001b[0;34m]\u001b[0m \u001b[0;34m=\u001b[0m \u001b[0mdg\u001b[0m\u001b[0;34m\u001b[0m\u001b[0m\n",
      "\u001b[0;32m<ipython-input-5-9935877b4414>\u001b[0m in \u001b[0;36mdumpread\u001b[0;34m(fn)\u001b[0m\n\u001b[1;32m     23\u001b[0m \u001b[0;32mdef\u001b[0m \u001b[0mdumpread\u001b[0m\u001b[0;34m(\u001b[0m\u001b[0mfn\u001b[0m\u001b[0;34m)\u001b[0m\u001b[0;34m:\u001b[0m\u001b[0;34m\u001b[0m\u001b[0m\n\u001b[1;32m     24\u001b[0m     \u001b[0;32mprint\u001b[0m\u001b[0;34m(\u001b[0m\u001b[0;34m\"Reading file %s.\"\u001b[0m \u001b[0;34m%\u001b[0m \u001b[0mfn\u001b[0m\u001b[0;34m)\u001b[0m\u001b[0;34m\u001b[0m\u001b[0m\n\u001b[0;32m---> 25\u001b[0;31m     \u001b[0mrawreadgen\u001b[0m \u001b[0;34m=\u001b[0m \u001b[0mnp\u001b[0m\u001b[0;34m.\u001b[0m\u001b[0mgenfromtxt\u001b[0m\u001b[0;34m(\u001b[0m\u001b[0mfn\u001b[0m\u001b[0;34m,\u001b[0m \u001b[0mnames\u001b[0m \u001b[0;34m=\u001b[0m \u001b[0mTrue\u001b[0m\u001b[0;34m,\u001b[0m \u001b[0mdelimiter\u001b[0m\u001b[0;34m=\u001b[0m\u001b[0;34m' '\u001b[0m\u001b[0;34m,\u001b[0m \u001b[0mskip_header\u001b[0m \u001b[0;34m=\u001b[0m \u001b[0;36m2\u001b[0m\u001b[0;34m,\u001b[0m \u001b[0minvalid_raise\u001b[0m \u001b[0;34m=\u001b[0m \u001b[0mFalse\u001b[0m\u001b[0;34m,\u001b[0m \u001b[0mencoding\u001b[0m \u001b[0;34m=\u001b[0m \u001b[0mNone\u001b[0m\u001b[0;34m)\u001b[0m\u001b[0;34m\u001b[0m\u001b[0m\n\u001b[0m\u001b[1;32m     26\u001b[0m     \u001b[0mcols\u001b[0m \u001b[0;34m=\u001b[0m \u001b[0mrawreadgen\u001b[0m\u001b[0;34m.\u001b[0m\u001b[0mdtype\u001b[0m\u001b[0;34m.\u001b[0m\u001b[0mnames\u001b[0m\u001b[0;34m\u001b[0m\u001b[0m\n\u001b[1;32m     27\u001b[0m     \u001b[0;31m#print(\"...read <%s> columns.\" % ', '.join(cols) )\u001b[0m\u001b[0;34m\u001b[0m\u001b[0;34m\u001b[0m\u001b[0m\n",
      "\u001b[0;31mTypeError\u001b[0m: genfromtxt() got an unexpected keyword argument 'encoding'"
     ]
    }
   ],
   "source": [
    "%matplotlib inline\n",
    "import os\n",
    "\n",
    "import numpy as np\n",
    "import matplotlib.pyplot as plt\n",
    "from collections import namedtuple\n",
    "\n",
    "#bench_dir = 'bench_py_v001'\n",
    "bench_dir = 'bench_py_v002'\n",
    "\n",
    "size_ag, size_lex, size_mem = 8, 8, 8\n",
    "#size_ag, size_lex, size_mem = 16, 16, 16\n",
    "#size_ag, size_lex, size_mem = 32, 32, 32\n",
    "#size_ag, size_lex, size_mem = 64, 64, 64\n",
    "\n",
    "\n",
    "#mrspan_start, mrspan_stop, mrspan_points = 0.0, 2.0, 20+1\n",
    "mrspan_start, mrspan_stop, mrspan_points = 0.0, 2.0, 100+1\n",
    "mr_seq = np.linspace(mrspan_start, mrspan_stop, num=mrspan_points, endpoint = True)\n",
    "\n",
    "plt.rcParams['figure.figsize'] = (15,15)\n",
    "\n",
    "def dumpread(fn):\n",
    "    print(\"Reading file %s.\" % fn)\n",
    "    rawreadgen = np.genfromtxt(fn, names = True, delimiter=' ', skip_header = 2, invalid_raise = False)\n",
    "    cols = rawreadgen.dtype.names\n",
    "    #print(\"...read <%s> columns.\" % ', '.join(cols) )\n",
    "    return rawreadgen\n",
    "\n",
    "acc_rate_matrix = dict()\n",
    "\n",
    "for mr_val in mr_seq:\n",
    "    #sorry, varying number of decimal values makes for crappy code.\n",
    "    #fname = 'run_%d_%d_%d_mr_%.1f.txt' % (size_ag, size_lex, size_mem, mr_val)\n",
    "    fname = 'run_%d_%d_%d_mr_%.2f.txt' % (size_ag, size_lex, size_mem, mr_val)\n",
    "    ffname = os.path.join(bench_dir, fname)\n",
    "    dg = dumpread(ffname)\n",
    "    #acc_rate_matrix['%.1f' % mr_val] = dg\n",
    "    acc_rate_matrix['%.2f' % mr_val] = dg\n",
    " "
   ]
  },
  {
   "cell_type": "code",
   "execution_count": null,
   "metadata": {
    "collapsed": true
   },
   "outputs": [],
   "source": [
    "#PLOT TIME SERIES\n",
    "#THE STATIONARY ONE (BLUE) IS Mutation_Scale = 0.0\n",
    "\n",
    "obsnum = len(acc_rate_matrix.values()[0]) #hackish\n",
    "#obsnum = 500 #ZOOMING IN ON THE INTERESTING PART\n",
    "\n",
    "x = range(0, obsnum)\n",
    "for mr_val in mr_seq:\n",
    "    #y = acc_rate_matrix['%.1f' % mr_val]['AcceptanceRate'][0:obsnum]\n",
    "    y = acc_rate_matrix['%.2f' % mr_val]['AcceptanceRate'][0:obsnum]\n",
    "\n",
    "    plt.plot(x,y)\n",
    "    #print(\"Min/Max AR values for MS %.1f are %.3f, %.3f\" % (mr_val, min(y), max(y)) )\n",
    "    print(\"Min/Max AR values for MS %.2f are %.3f, %.3f\" % (mr_val, min(y), max(y)) )\n",
    "plt.show()\n",
    "\n"
   ]
  },
  {
   "cell_type": "code",
   "execution_count": null,
   "metadata": {
    "collapsed": true
   },
   "outputs": [],
   "source": [
    "#PLOT Mutation / Acceptance (NOTE THE Y-SCALE: 0.90-1.00)\n",
    "\n",
    "x_mr = []\n",
    "y_ar = []\n",
    "\n",
    "for mr_val in mr_seq:\n",
    "    x_mr.append(mr_val) \n",
    "    #y_ar.append(acc_rate_matrix['%.1f' % mr_val]['AcceptanceRate'][obsnum-1])\n",
    "    y_ar.append(acc_rate_matrix['%.2f' % mr_val]['AcceptanceRate'][obsnum-1])\n",
    "\n",
    "plt.plot(x_mr,y_ar)\n",
    "plt.show()\n"
   ]
  },
  {
   "cell_type": "code",
   "execution_count": null,
   "metadata": {
    "collapsed": true
   },
   "outputs": [],
   "source": []
  },
  {
   "cell_type": "code",
   "execution_count": null,
   "metadata": {
    "collapsed": true
   },
   "outputs": [],
   "source": []
  }
 ],
 "metadata": {
  "kernelspec": {
   "display_name": "Python 2",
   "language": "python",
   "name": "python2"
  },
  "language_info": {
   "codemirror_mode": {
    "name": "ipython",
    "version": 2
   },
   "file_extension": ".py",
   "mimetype": "text/x-python",
   "name": "python",
   "nbconvert_exporter": "python",
   "pygments_lexer": "ipython2",
   "version": "2.7.12"
  }
 },
 "nbformat": 4,
 "nbformat_minor": 0
}
