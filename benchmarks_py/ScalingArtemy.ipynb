{
 "cells": [
  {
   "cell_type": "code",
   "execution_count": null,
   "metadata": {},
   "outputs": [],
   "source": [
    "from __future__ import print_function\n",
    "%matplotlib inline\n",
    "import pandas as pd\n",
    "import numpy as np\n",
    "from matplotlib import pyplot as plt, gridspec\n",
    "import matplotlib as mpl\n",
    "\n",
    "import os\n",
    "def load_data_dir(DIR):\n",
    "    data = []\n",
    "    error_files = []\n",
    "    for fname in sorted(os.listdir(DIR)):\n",
    "        if fname.startswith('run'):\n",
    "            ffname = DIR+'/'+fname\n",
    "            with open(ffname) as f:\n",
    "                for l in f.readlines():\n",
    "                    if l[0]=='#' and 'num_memes' in l:\n",
    "                        try:\n",
    "                            d = dict(e.split('=', 1) for e in l[1:].strip().split(', '))\n",
    "                            d['filename'] = fname\n",
    "                            df = pd.read_csv(ffname, comment='#', sep=' ')\n",
    "                            if not len(df):\n",
    "                                raise\n",
    "                            data.append((d,df))\n",
    "                        except:\n",
    "                            error_files.append(ffname)\n",
    "    return data, error_files"
   ]
  },
  {
   "cell_type": "code",
   "execution_count": null,
   "metadata": {},
   "outputs": [],
   "source": [
    "basedir = 'bm_sfi_scaling002'\n",
    "DIR, COL  = (basedir+'/agents', 'num_agents')\n",
    "#DIR, COL  = (basedir+'/lexesmemes', 'num_memes')\n",
    "#DIR, COL  = (basedir+'/lexesmemesagents', 'num_agents')\n",
    "DO_SAVE  = True # whether to save pdf output\n",
    "MAX_DRIFT_PLOT = 0.005\n",
    "IS_CONVERGED_CUTOFF = 0.75\n",
    "\n",
    "max_step = 0\n",
    "data, error_files = load_data_dir(DIR)\n",
    "\n",
    "mutators = set(cfg['mutator_class'] for cfg, _ in data)\n",
    "colvals  = set(float(cfg[COL])      for cfg, _ in data)\n",
    "\n",
    "print(\"Loaded %d files\" % len(data))\n",
    "if len(error_files):\n",
    "    print(\"Errors processing these files:\")\n",
    "    for ffname in error_files:\n",
    "        print(\"  %s\" % ffname)\n"
   ]
  },
  {
   "cell_type": "code",
   "execution_count": null,
   "metadata": {},
   "outputs": [],
   "source": [
    "for m in sorted(mutators):\n",
    "    plt.figure(figsize=(12,5))\n",
    "    for v in sorted(colvals):\n",
    "        for (cfg, df) in data:\n",
    "            if cfg['mutator_class'] != m or float(cfg[COL]) != v:\n",
    "                continue\n",
    "            plt.subplot(1,2,1)\n",
    "            plt.plot(df.Step, df.Comprehension, label=cfg[COL])\n",
    "            plt.semilogx()\n",
    "            plt.title(m)\n",
    "            plt.legend()\n",
    "            plt.subplot(1,2,2)\n",
    "            rescaled = df.Step/(v**1.25)\n",
    "            plt.plot(rescaled, df.Comprehension, label=cfg[COL])\n",
    "            if v==21:\n",
    "                plt.xlim([0, 2*np.max(rescaled)])\n",
    "            plt.semilogx()\n",
    "            plt.title(m)\n",
    "    "
   ]
  },
  {
   "cell_type": "code",
   "execution_count": null,
   "metadata": {},
   "outputs": [],
   "source": []
  },
  {
   "cell_type": "code",
   "execution_count": null,
   "metadata": {},
   "outputs": [],
   "source": []
  }
 ],
 "metadata": {
  "kernelspec": {
   "display_name": "Python 3",
   "language": "python",
   "name": "python3"
  },
  "language_info": {
   "codemirror_mode": {
    "name": "ipython",
    "version": 3
   },
   "file_extension": ".py",
   "mimetype": "text/x-python",
   "name": "python",
   "nbconvert_exporter": "python",
   "pygments_lexer": "ipython3",
   "version": "3.6.5"
  }
 },
 "nbformat": 4,
 "nbformat_minor": 0
}
