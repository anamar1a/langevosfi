{
 "cells": [
  {
   "cell_type": "code",
   "execution_count": null,
   "metadata": {},
   "outputs": [],
   "source": [
    "%matplotlib inline\n",
    "import sys ; sys.path.append(\"..\")\n",
    "from plotting import plot_stats\n",
    "import numpy as np\n",
    "import model"
   ]
  },
  {
   "cell_type": "code",
   "execution_count": null,
   "metadata": {},
   "outputs": [],
   "source": [
    "num_agents = 50\n",
    "num_memes  = 50\n",
    "num_lexes  = 50\n",
    "num_steps  = 1000000\n",
    "report_every = 100000"
   ]
  },
  {
   "cell_type": "code",
   "execution_count": null,
   "metadata": {},
   "outputs": [],
   "source": [
    "meme_probs = np.random.random(num_memes)\n",
    "meme_probs /= meme_probs.sum()\n",
    "\n",
    "grammars = model.init_grammars(meme_probs, num_agents=num_agents, num_memes=num_memes, num_lexes=num_lexes)\n",
    "stats, newgrammars = model.run_simulation(grammars, meme_probs=meme_probs,\n",
    "                             num_agents=num_agents, num_memes=num_memes, num_lexes=num_lexes,\n",
    "                             mutation_scale=0.1, num_steps=num_steps, report_every=report_every)"
   ]
  },
  {
   "cell_type": "code",
   "execution_count": null,
   "metadata": {},
   "outputs": [],
   "source": []
  }
 ],
 "metadata": {
  "kernelspec": {
   "display_name": "Python 3",
   "language": "python",
   "name": "python3"
  },
  "language_info": {
   "codemirror_mode": {
    "name": "ipython",
    "version": 3
   },
   "file_extension": ".py",
   "mimetype": "text/x-python",
   "name": "python",
   "nbconvert_exporter": "python",
   "pygments_lexer": "ipython3",
   "version": "3.6.1"
  }
 },
 "nbformat": 4,
 "nbformat_minor": 0
}
