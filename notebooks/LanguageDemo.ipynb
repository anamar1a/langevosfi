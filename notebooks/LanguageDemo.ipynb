{
 "cells": [
  {
   "cell_type": "code",
   "execution_count": null,
   "metadata": {},
   "outputs": [],
   "source": [
    "import sys ; sys.path.append(\"..\")\n",
    "from config import git_strings\n",
    "git_strings.append('@(#)LanguageDemo.ipynb: $Id$')"
   ]
  },
  {
   "cell_type": "code",
   "execution_count": null,
   "metadata": {},
   "outputs": [],
   "source": [
    "%matplotlib inline\n",
    "from plotting import plot_stats\n",
    "import numpy as np\n",
    "\n",
    "import model\n",
    "\n",
    "num_agents = 10\n",
    "num_memes  = 10\n",
    "num_lexes  = 10\n",
    "num_steps  = 100000\n",
    "report_every = 10000"
   ]
  },
  {
   "cell_type": "code",
   "execution_count": null,
   "metadata": {},
   "outputs": [],
   "source": [
    "# Uniform meme probability, regular mutation operator\n",
    "meme_probs = np.ones(num_memes)\n",
    "meme_probs /= meme_probs.sum()\n",
    "\n",
    "grammars = model.init_grammars(meme_probs, num_agents=num_agents, num_memes=num_memes, num_lexes=num_lexes)\n",
    "stats, newgrammars = model.run_simulation(grammars, meme_probs=meme_probs,\n",
    "                             num_agents=num_agents, num_memes=num_memes, num_lexes=num_lexes,\n",
    "                             mutation_scale=0.1, num_steps=num_steps, report_every=report_every)"
   ]
  },
  {
   "cell_type": "code",
   "execution_count": null,
   "metadata": {},
   "outputs": [],
   "source": [
    "plot_stats(stats)"
   ]
  },
  {
   "cell_type": "code",
   "execution_count": null,
   "metadata": {},
   "outputs": [],
   "source": [
    "# Let's try it with random intial meme probabilities\n",
    "meme_probs = np.random.random(num_memes)\n",
    "meme_probs /= meme_probs.sum()\n",
    "\n",
    "grammars = model.init_grammars(meme_probs, num_agents=num_agents, num_memes=num_memes, num_lexes=num_lexes)\n",
    "stats2, newgrammars = model.run_simulation(grammars, meme_probs=meme_probs,\n",
    "                             num_agents=num_agents, num_memes=num_memes, num_lexes=num_lexes,\n",
    "                             mutation_scale=0.1, num_steps=num_steps, report_every=report_every,\n",
    "                             report_level=2)"
   ]
  },
  {
   "cell_type": "code",
   "execution_count": null,
   "metadata": {},
   "outputs": [],
   "source": [
    "plot_stats(stats2)"
   ]
  },
  {
   "cell_type": "code",
   "execution_count": null,
   "metadata": {},
   "outputs": [],
   "source": [
    "# Now let's try it with AdditiveSingleUniform mutator\n",
    "import mutators\n",
    "meme_probs = np.ones(num_memes)\n",
    "meme_probs /= meme_probs.sum()\n",
    "\n",
    "grammars = model.init_grammars(meme_probs, num_agents=num_agents, num_memes=num_memes, num_lexes=num_lexes)\n",
    "stats3, newgrammars = model.run_simulation(grammars, meme_probs=meme_probs,\n",
    "                             num_agents=num_agents, num_memes=num_memes, num_lexes=num_lexes,\n",
    "                             mutator_class=mutators.AdditiveSingleUniform, mutation_scale=0.1, \n",
    "                             num_steps=num_steps, report_every=report_every)"
   ]
  },
  {
   "cell_type": "code",
   "execution_count": null,
   "metadata": {},
   "outputs": [],
   "source": [
    "plot_stats(stats3)"
   ]
  }
 ],
 "metadata": {
  "kernelspec": {
   "display_name": "Python 3",
   "language": "python",
   "name": "python3"
  },
  "language_info": {
   "codemirror_mode": {
    "name": "ipython",
    "version": 3
   },
   "file_extension": ".py",
   "mimetype": "text/x-python",
   "name": "python",
   "nbconvert_exporter": "python",
   "pygments_lexer": "ipython3",
   "version": "3.6.1"
  }
 },
 "nbformat": 4,
 "nbformat_minor": 1
}
